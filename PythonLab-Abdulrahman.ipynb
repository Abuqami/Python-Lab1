{
 "cells": [
  {
   "cell_type": "code",
   "execution_count": 1,
   "id": "79aadc23",
   "metadata": {},
   "outputs": [
    {
     "data": {
      "text/plain": [
       "'32'"
      ]
     },
     "execution_count": 1,
     "metadata": {},
     "output_type": "execute_result"
    }
   ],
   "source": [
    "\n",
    "    1-Define a variable that has a value of your favorite season.\n",
    "    2-Define “x“ variable has an integer value and variable “y” has a float value.\n",
    "    3-Assign One Value to Multiple Variables.\n",
    "    4-Assign Many Values to Multiple Variables.\n"
   ]
  },
  {
   "cell_type": "code",
   "execution_count": 11,
   "id": "4a7441b2",
   "metadata": {},
   "outputs": [
    {
     "data": {
      "text/plain": [
       "10"
      ]
     },
     "execution_count": 11,
     "metadata": {},
     "output_type": "execute_result"
    }
   ],
   "source": [
    "season = 'Winter'\n",
    "x = 10\n",
    "y = 10.1\n",
    "a = b = c = 10\n",
    "e, f , g = 10,5,20"
   ]
  },
  {
   "cell_type": "code",
   "execution_count": null,
   "id": "c86f361e",
   "metadata": {},
   "outputs": [],
   "source": []
  }
 ],
 "metadata": {
  "kernelspec": {
   "display_name": "Python 3 (ipykernel)",
   "language": "python",
   "name": "python3"
  },
  "language_info": {
   "codemirror_mode": {
    "name": "ipython",
    "version": 3
   },
   "file_extension": ".py",
   "mimetype": "text/x-python",
   "name": "python",
   "nbconvert_exporter": "python",
   "pygments_lexer": "ipython3",
   "version": "3.11.3"
  }
 },
 "nbformat": 4,
 "nbformat_minor": 5
}
